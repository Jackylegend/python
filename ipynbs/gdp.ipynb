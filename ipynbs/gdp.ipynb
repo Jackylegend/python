{
 "cells": [
  {
   "cell_type": "code",
   "execution_count": 1,
   "metadata": {},
   "outputs": [],
   "source": [
    "import pandas as pd \n",
    "import numpy as np\n",
    "import pyecharts\n",
    "import plotly.express as px # visualization\n",
    "import pandas_datareader as pdr # access fred\n",
    "from datetime import date\n",
    "from fredapi import Fred\n",
    "import requests\n",
    "import openpyxl\n",
    "\n",
    "from pyecharts.globals import CurrentConfig, NotebookType\n",
    "CurrentConfig.NOTEBOOK_TYPE = NotebookType.JUPYTER_NOTEBOOK\n",
    "\n",
    "from pyecharts import options as opts\n",
    "from pyecharts.charts import Bar, Line"
   ]
  },
  {
   "cell_type": "code",
   "execution_count": 2,
   "metadata": {},
   "outputs": [],
   "source": [
    "fred_key = 'a4459da91e23d9116f98724098d92428'\n",
    "fred = Fred(api_key=fred_key)\n",
    "today = date.today()\n",
    "\n",
    "\n",
    "# Get Series Data\n",
    "def get_fred_series_data(fred_key,series, **kwargs):\n",
    "  # url\n",
    "  url = \"https://api.stlouisfed.org/fred/series/observations?series_id={}&api_key={}&file_type=json\".format(series, fred_key)\n",
    "\n",
    "  # response\n",
    "  response = requests.get(url)\n",
    "  data = response.json()\n",
    "  return data\n",
    "\n",
    "\n",
    "def get_fred_data(param_list, start_date, end_date):\n",
    "  df = pdr.DataReader(param_list, 'fred', start_date, end_date)\n",
    "  return df.reset_index()"
   ]
  },
  {
   "cell_type": "code",
   "execution_count": 13,
   "metadata": {},
   "outputs": [],
   "source": [
    "code_all = pd.read_excel('C:/Users/fanjz/Desktop/python/gdp/gdp_code.xlsx', sheet_name='all')\n",
    "\n",
    "code_annual = code_all[code_all['Frequency'] == 'Annual']\n",
    "code_quarter = code_all[code_all['Frequency'] == 'Quarterly']\n",
    "\n",
    "code_annual_list = code_annual['Code'].tolist()\n",
    "code_quarter_list = code_quarter['Code'].tolist()"
   ]
  },
  {
   "cell_type": "code",
   "execution_count": 19,
   "metadata": {},
   "outputs": [],
   "source": [
    "data_annual = get_fred_data(code_annual_list, start_date='1950-01-01', end_date=str(today))\n",
    "data_quarter = get_fred_data(code_quarter_list, start_date='1950-01-01', end_date=str(today))\n",
    "\n",
    "data_annual =  data_annual.rename(columns={'DATE' : 'Date'})\n",
    "data_quarter =  data_quarter.rename(columns={'DATE' : 'Date'})"
   ]
  },
  {
   "cell_type": "code",
   "execution_count": 29,
   "metadata": {},
   "outputs": [],
   "source": [
    "data_annual_df = data_annual.melt(id_vars='Date', var_name='Code', value_name='Values')\n",
    "data_quarter_df = data_quarter.melt(id_vars='Date', var_name='Code', value_name='Values')"
   ]
  },
  {
   "cell_type": "code",
   "execution_count": 31,
   "metadata": {},
   "outputs": [],
   "source": [
    "data_annual_merge = pd.merge(data_annual_df, code_annual, on='Code')\n",
    "data_quarter_merge = pd.merge(data_quarter_df, code_quarter, on='Code')"
   ]
  },
  {
   "cell_type": "code",
   "execution_count": 34,
   "metadata": {},
   "outputs": [],
   "source": [
    "data_quarter_merge['Year'] = data_quarter_merge['Date'].dt.year\n",
    "data_quarter_merge['Quarter'] = pd.PeriodIndex(data_quarter_merge['Date'], freq='Q').quarter\n",
    "data_quarter_merge['Year_quarter'] = data_quarter_merge['Year'].astype(str) + 'Q' + data_quarter_merge['Quarter'].astype(str)"
   ]
  },
  {
   "cell_type": "code",
   "execution_count": 39,
   "metadata": {},
   "outputs": [],
   "source": [
    "data_annual_merge = data_annual_merge.dropna(subset=['Values'])\n",
    "data_quarter_merge = data_quarter_merge.dropna(subset= ['Values'])\n",
    "\n",
    "data_annual_merge['Date'] = data_annual_merge['Date'].dt.strftime('%Y-%m-%d')\n",
    "data_quarter_merge['Date'] = data_quarter_merge['Date'].dt.strftime('%Y-%m-%d')\n"
   ]
  },
  {
   "cell_type": "code",
   "execution_count": 40,
   "metadata": {},
   "outputs": [],
   "source": [
    "data_annual_merge.to_excel('C:/Users/fanjz/Desktop/python/gdp/quarterly_gdp_data.xlsx', index=False)\n",
    "data_quarter_merge.to_excel('C:/Users/fanjz/Desktop/python/gdp/yearly_gdp_data.xlsx', index=False)"
   ]
  },
  {
   "cell_type": "code",
   "execution_count": null,
   "metadata": {},
   "outputs": [],
   "source": []
  }
 ],
 "metadata": {
  "kernelspec": {
   "display_name": "base",
   "language": "python",
   "name": "python3"
  },
  "language_info": {
   "codemirror_mode": {
    "name": "ipython",
    "version": 3
   },
   "file_extension": ".py",
   "mimetype": "text/x-python",
   "name": "python",
   "nbconvert_exporter": "python",
   "pygments_lexer": "ipython3",
   "version": "3.11.9"
  }
 },
 "nbformat": 4,
 "nbformat_minor": 2
}
