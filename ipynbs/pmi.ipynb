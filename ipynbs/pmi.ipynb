{
 "cells": [
  {
   "cell_type": "code",
   "execution_count": 43,
   "metadata": {},
   "outputs": [],
   "source": [
    "import pandas as pd \n",
    "import numpy as np\n",
    "import pyecharts\n",
    "import plotly.express as px # visualization\n",
    "import pandas_datareader as pdr # access fred\n",
    "from datetime import date\n",
    "from fredapi import Fred\n",
    "import requests\n",
    "import openpyxl\n",
    "from bs4 import BeautifulSoup\n",
    "from dateutil.relativedelta import relativedelta\n",
    "import re\n",
    "\n",
    "from pyecharts.globals import CurrentConfig, NotebookType\n",
    "CurrentConfig.NOTEBOOK_TYPE = NotebookType.JUPYTER_NOTEBOOK\n",
    "\n",
    "from pyecharts import options as opts\n",
    "from pyecharts.charts import Bar, Line"
   ]
  },
  {
   "cell_type": "code",
   "execution_count": 412,
   "metadata": {},
   "outputs": [],
   "source": [
    "# Load orginal dataset\n",
    "\n",
    "index_data = pd.read_excel('/Users/jackyliu/Desktop/python/pmi/pmi_level.xlsx')\n",
    "glance = pd.read_excel('/Users/jackyliu/Desktop/python/pmi/glancetable.xlsx')\n",
    "comments = pd.read_excel('/Users/jackyliu/Desktop/python/pmi/comments.xlsx')\n",
    "sector_ranking = pd.read_excel('/Users/jackyliu/Desktop/python/pmi/sector_ranking.xlsx')"
   ]
  },
  {
   "cell_type": "code",
   "execution_count": 219,
   "metadata": {},
   "outputs": [],
   "source": [
    "# Copy and paste latest month data url\n",
    "\n",
    "url = 'https://www.prnewswire.com/news-releases/manufacturing-pmi-at-46-7-october-2023-manufacturing-ism-report-on-business-301973296.html'\n",
    "\n",
    "response = requests.get(url)"
   ]
  },
  {
   "cell_type": "markdown",
   "metadata": {},
   "source": [
    "### Extract Data from URL ###"
   ]
  },
  {
   "cell_type": "markdown",
   "metadata": {},
   "source": [
    "#### 1. Get comments from respondents ####"
   ]
  },
  {
   "cell_type": "code",
   "execution_count": 220,
   "metadata": {},
   "outputs": [],
   "source": [
    "# Extract What Respondents Say\n",
    "\n",
    "if response.status_code == 200:\n",
    "    soup = BeautifulSoup(response.text, 'html.parser')   \n",
    "    section = soup.find('section', class_='release-body container')\n",
    "\n",
    "    if section:\n",
    "        main_content = section.find('div', class_='col-lg-10 col-lg-offset-1')\n",
    "\n",
    "        if main_content:\n",
    "            ul_element = main_content.find('ul', type='disc')\n",
    "            if ul_element:\n",
    "                list_items = ul_element.find_all('li')\n",
    "                if list_items:\n",
    "                    # Create a list to store the text of each list item\n",
    "                    items_list = [item.text.strip() for item in list_items]\n",
    "\n",
    "                    # Create a DataFrame from the list\n",
    "                    respondent_comment = pd.DataFrame(items_list, columns=['WHAT RESPONDENTS ARE SAYING'])\n",
    "        else:\n",
    "            print(\"Main content not found within the section.\")\n",
    "    else:\n",
    "        print(\"Section with class 'xxxx' not found.\")\n",
    "\n",
    "else:\n",
    "    print(\"Failed to retrieve the page\")"
   ]
  },
  {
   "cell_type": "markdown",
   "metadata": {},
   "source": [
    "#### 2. Get Monthly Level Data ####"
   ]
  },
  {
   "cell_type": "code",
   "execution_count": 221,
   "metadata": {},
   "outputs": [
    {
     "name": "stderr",
     "output_type": "stream",
     "text": [
      "/var/folders/j9/4m63qjgj5g350s7xnpn3kzs40000gp/T/ipykernel_2179/2319469250.py:16: FutureWarning: Passing literal html to 'read_html' is deprecated and will be removed in a future version. To read from a literal string, wrap it in a 'StringIO' object.\n",
      "  data_table = pd.read_html(str(table))[0]\n"
     ]
    }
   ],
   "source": [
    "# Extract monthly index level\n",
    "\n",
    "if response.status_code == 200:\n",
    "    soup = BeautifulSoup(response.text, 'html.parser')   \n",
    "    section = soup.find('section', class_='release-body container')\n",
    "\n",
    "    if section:\n",
    "        table_div = section.find('div', class_='table-responsive')\n",
    "\n",
    "        if table_div:\n",
    "        # Find the table within the div\n",
    "            table = table_div.find('table')\n",
    "\n",
    "            if table:\n",
    "                # Read the table into a DataFrame\n",
    "                data_table = pd.read_html(str(table))[0]\n",
    "            else:\n",
    "                print(\"Table not found within the div with class 'table-responsive'\")\n",
    "        else:\n",
    "            print(\"Div with class 'table-responsive' not found.\")\n",
    "    else:\n",
    "        print(\"Failed to retrieve the page\")"
   ]
  },
  {
   "cell_type": "markdown",
   "metadata": {},
   "source": [
    "#### 3. Get Commodity Data ####"
   ]
  },
  {
   "cell_type": "code",
   "execution_count": 222,
   "metadata": {},
   "outputs": [],
   "source": [
    "# Extract Commodity up/down/short supply\n",
    "\n",
    "commodity_up = soup.select_one('#main > article > section > div > div > p:nth-child(16)')\n",
    "commodity_down = soup.select_one('#main > article > section > div > div > p:nth-child(17)')\n",
    "commodity_short = soup.select_one('#main > article > section > div > div > p:nth-child(18)')\n",
    "\n",
    "commodity_tags = [commodity_up,commodity_down,commodity_short]\n",
    "commoditiy_direction = []\n",
    "for i, tag in enumerate(commodity_tags):\n",
    "    if tag:\n",
    "        direction = tag.get_text(separator=' ').strip()  # Get all the text within the <p> tag\n",
    "        commoditiy_direction.append(direction)\n",
    "    else:\n",
    "        print(f\"The specified <p> tag {i+1} was not found.\")\n",
    "\n",
    "# Create a DataFrame with one column and three rows from the list of contents\n",
    "commodity_comments = pd.DataFrame(commoditiy_direction, columns=['content'])"
   ]
  },
  {
   "cell_type": "code",
   "execution_count": 285,
   "metadata": {},
   "outputs": [
    {
     "data": {
      "text/html": [
       "<div>\n",
       "<style scoped>\n",
       "    .dataframe tbody tr th:only-of-type {\n",
       "        vertical-align: middle;\n",
       "    }\n",
       "\n",
       "    .dataframe tbody tr th {\n",
       "        vertical-align: top;\n",
       "    }\n",
       "\n",
       "    .dataframe thead th {\n",
       "        text-align: right;\n",
       "    }\n",
       "</style>\n",
       "<table border=\"1\" class=\"dataframe\">\n",
       "  <thead>\n",
       "    <tr style=\"text-align: right;\">\n",
       "      <th></th>\n",
       "      <th>pattern</th>\n",
       "      <th>rest</th>\n",
       "    </tr>\n",
       "  </thead>\n",
       "  <tbody>\n",
       "    <tr>\n",
       "      <th>0</th>\n",
       "      <td>Commodities Up in Price</td>\n",
       "      <td>Crude Oil (3); Electronic Components (2); Labor — Professional Services; Labor — Temporary (2); Natural Gas (4); Plastic Resins* (2); Polypropylen...</td>\n",
       "    </tr>\n",
       "    <tr>\n",
       "      <th>1</th>\n",
       "      <td>Commodities Down in Price</td>\n",
       "      <td>Aluminum (5); Caustic Soda (4); Copper Based Products; Corrugate Boxes (3); Packaging; Plastic Resins* (17); Road Freight*; Steel* (7); Steel — Ho...</td>\n",
       "    </tr>\n",
       "    <tr>\n",
       "      <th>2</th>\n",
       "      <td>Commodities in</td>\n",
       "      <td>Short Supply Electrical Components (37); Electrical Equipment; and Electronic Components (35).</td>\n",
       "    </tr>\n",
       "  </tbody>\n",
       "</table>\n",
       "</div>"
      ],
      "text/plain": [
       "                     pattern  \\\n",
       "0    Commodities Up in Price   \n",
       "1  Commodities Down in Price   \n",
       "2             Commodities in   \n",
       "\n",
       "                                                                                                                                                    rest  \n",
       "0  Crude Oil (3); Electronic Components (2); Labor — Professional Services; Labor — Temporary (2); Natural Gas (4); Plastic Resins* (2); Polypropylen...  \n",
       "1  Aluminum (5); Caustic Soda (4); Copper Based Products; Corrugate Boxes (3); Packaging; Plastic Resins* (17); Road Freight*; Steel* (7); Steel — Ho...  \n",
       "2                                                         Short Supply Electrical Components (37); Electrical Equipment; and Electronic Components (35).  "
      ]
     },
     "execution_count": 285,
     "metadata": {},
     "output_type": "execute_result"
    }
   ],
   "source": [
    "substring_patterns = ['Commodities Up in Price','Commodities Down in Price','Commodities in']\n",
    "\n",
    "def split_based_on_pattern(content, pattern):\n",
    "    if pattern in content:\n",
    "        parts = content.split(pattern, 1)\n",
    "        return [pattern.strip(), parts[1].strip()]\n",
    "    else:\n",
    "        return [content.strip(), '']\n",
    "\n",
    "# Split each row based on the defined patterns\n",
    "split_data = []\n",
    "for i, row in commodity_comments.iterrows():\n",
    "    split_data.append(split_based_on_pattern(row['content'], substring_patterns[i]))\n",
    "\n",
    "# Create a new DataFrame from the split data\n",
    "commodity_df = pd.DataFrame(split_data, columns=['pattern', 'rest'])\n",
    "\n",
    "# Display the split DataFrame\n",
    "commodity_df"
   ]
  },
  {
   "cell_type": "markdown",
   "metadata": {},
   "source": [
    "#### 4. Get Industry Ranking #### "
   ]
  },
  {
   "cell_type": "code",
   "execution_count": 264,
   "metadata": {},
   "outputs": [],
   "source": [
    "# Extract Industry Rankings\n",
    "\n",
    "pmi = soup.select_one('#main > article > section > div > div > p:nth-child(10)')\n",
    "new_order = soup.select_one('#main > article > section > div > div > p:nth-child(26)')\n",
    "production = soup.select_one('#main > article > section > div > div > p:nth-child(29)')\n",
    "employment= soup.select_one('#main > article > section > div > div > p:nth-child(32)')\n",
    "supplier_deliveries = soup.select_one('#main > article > section > div > div > p:nth-child(35)')\n",
    "inventories = soup.select_one('#main > article > section > div > div > p:nth-child(38)')\n",
    "customers_inv = soup.select_one('#main > article > section > div > div > p:nth-child(41)')\n",
    "prices = soup.select_one('#main > article > section > div > div > p:nth-child(44)')\n",
    "backlog_orders = soup.select_one('#main > article > section > div > div > p:nth-child(47)')\n",
    "new_export_orders = soup.select_one('#main > article > section > div > div > p:nth-child(50)')\n",
    "imports = soup.select_one('#main > article > section > div > div > p:nth-child(53)')\n",
    "\n",
    "industry_ranking = [pmi,new_order,production,employment,supplier_deliveries,inventories,customers_inv,prices,backlog_orders,new_export_orders,imports]\n",
    "\n",
    "rankings = []\n",
    "for i, tag in enumerate(industry_ranking):\n",
    "    if tag:\n",
    "        ranking = tag.get_text().strip()  # Get all the text within the <p> tag\n",
    "        rankings.append(ranking)\n",
    "    else:\n",
    "        print(f\"The specified <p> tag {i+1} was not found.\")\n",
    "\n",
    "# Create a DataFrame with one column and three rows from the list of contents\n",
    "ranking_df = pd.DataFrame(rankings, columns=['Ranking'])\n",
    "ranking_df['Ranking'] = ranking_df['Ranking'].str.strip()\n"
   ]
  },
  {
   "cell_type": "code",
   "execution_count": 265,
   "metadata": {},
   "outputs": [],
   "source": [
    "industry_list = ['PMI','New Order','Production','Employment','Supplier Deliveries','Inventories','Customers_inv','Prices','Backlog Orders','New Export Orders','Imports']\n",
    "ranking_df['Industry'] = industry_list\n",
    "col_oder = ['Industry','Ranking']\n",
    "ranking_df = ranking_df[col_oder]"
   ]
  },
  {
   "cell_type": "code",
   "execution_count": 266,
   "metadata": {},
   "outputs": [
    {
     "data": {
      "text/html": [
       "<div>\n",
       "<style scoped>\n",
       "    .dataframe tbody tr th:only-of-type {\n",
       "        vertical-align: middle;\n",
       "    }\n",
       "\n",
       "    .dataframe tbody tr th {\n",
       "        vertical-align: top;\n",
       "    }\n",
       "\n",
       "    .dataframe thead th {\n",
       "        text-align: right;\n",
       "    }\n",
       "</style>\n",
       "<table border=\"1\" class=\"dataframe\">\n",
       "  <thead>\n",
       "    <tr style=\"text-align: right;\">\n",
       "      <th></th>\n",
       "      <th>WHAT RESPONDENTS ARE SAYING</th>\n",
       "    </tr>\n",
       "  </thead>\n",
       "  <tbody>\n",
       "    <tr>\n",
       "      <th>0</th>\n",
       "      <td>\"Markets remain tough, and we have focused more resources on sales and marketing to drive greater sales and new market penetration with our device...</td>\n",
       "    </tr>\n",
       "    <tr>\n",
       "      <th>1</th>\n",
       "      <td>\"Economy absolutely slowing down. Less optimism regarding the first quarter of 2024.\" [Chemical Products]</td>\n",
       "    </tr>\n",
       "    <tr>\n",
       "      <th>2</th>\n",
       "      <td>\"Backlog is starting to dip a bit. We're hearing of cutbacks in 2024 ordering, but it's still very strong compared to historical averages.\" [Trans...</td>\n",
       "    </tr>\n",
       "    <tr>\n",
       "      <th>3</th>\n",
       "      <td>\"Markets appear to have slightly slowed. Certain commodities remain high.\" [Food, Beverage &amp; Tobacco Products]</td>\n",
       "    </tr>\n",
       "    <tr>\n",
       "      <th>4</th>\n",
       "      <td>\"Seeing a slowdown on bookings, and our backlog is down to five days from 15 weeks earlier this year.\" [Machinery]</td>\n",
       "    </tr>\n",
       "    <tr>\n",
       "      <th>5</th>\n",
       "      <td>\"A slow fourth quarter, and we're clearly in a mild industry recession. However, demand is down less than 5 percent, and customer confidence of a ...</td>\n",
       "    </tr>\n",
       "    <tr>\n",
       "      <th>6</th>\n",
       "      <td>\"Business is decent — not great, but steady and solid. We are meeting our sales and margin goals, but it's definitely hard to guess the future.\" [...</td>\n",
       "    </tr>\n",
       "    <tr>\n",
       "      <th>7</th>\n",
       "      <td>\"Commercial constructions continue to remain ahead of 2022. We have some concern over 2024 regarding inflation, as well as gas and oil pricing pot...</td>\n",
       "    </tr>\n",
       "    <tr>\n",
       "      <th>8</th>\n",
       "      <td>\"Demand for raw materials/chemicals appears to be stable heading into the fourth quarter.\" [Petroleum &amp; Coal Products]</td>\n",
       "    </tr>\n",
       "    <tr>\n",
       "      <th>9</th>\n",
       "      <td>\"Orders continue to increase in some sectors. Construction industry-related products/orders are slowing down.\" [Plastics &amp; Rubber Products]</td>\n",
       "    </tr>\n",
       "    <tr>\n",
       "      <th>10</th>\n",
       "      <td>\"Despite the ongoing United Auto Workers (UAW) strike, there's a firmness and pickup in orders for the rest of the fourth quarter.\" [Primary Metals]</td>\n",
       "    </tr>\n",
       "  </tbody>\n",
       "</table>\n",
       "</div>"
      ],
      "text/plain": [
       "                                                                                                                              WHAT RESPONDENTS ARE SAYING\n",
       "0   \"Markets remain tough, and we have focused more resources on sales and marketing to drive greater sales and new market penetration with our device...\n",
       "1                                               \"Economy absolutely slowing down. Less optimism regarding the first quarter of 2024.\" [Chemical Products]\n",
       "2   \"Backlog is starting to dip a bit. We're hearing of cutbacks in 2024 ordering, but it's still very strong compared to historical averages.\" [Trans...\n",
       "3                                          \"Markets appear to have slightly slowed. Certain commodities remain high.\" [Food, Beverage & Tobacco Products]\n",
       "4                                      \"Seeing a slowdown on bookings, and our backlog is down to five days from 15 weeks earlier this year.\" [Machinery]\n",
       "5   \"A slow fourth quarter, and we're clearly in a mild industry recession. However, demand is down less than 5 percent, and customer confidence of a ...\n",
       "6   \"Business is decent — not great, but steady and solid. We are meeting our sales and margin goals, but it's definitely hard to guess the future.\" [...\n",
       "7   \"Commercial constructions continue to remain ahead of 2022. We have some concern over 2024 regarding inflation, as well as gas and oil pricing pot...\n",
       "8                                  \"Demand for raw materials/chemicals appears to be stable heading into the fourth quarter.\" [Petroleum & Coal Products]\n",
       "9             \"Orders continue to increase in some sectors. Construction industry-related products/orders are slowing down.\" [Plastics & Rubber Products]\n",
       "10   \"Despite the ongoing United Auto Workers (UAW) strike, there's a firmness and pickup in orders for the rest of the fourth quarter.\" [Primary Metals]"
      ]
     },
     "execution_count": 266,
     "metadata": {},
     "output_type": "execute_result"
    }
   ],
   "source": [
    "# Data pre-check\n",
    "pre_check_dfs = [respondent_comment, data_table, commodity_df, ranking_df]\n",
    "respondent_comment"
   ]
  },
  {
   "cell_type": "code",
   "execution_count": 267,
   "metadata": {},
   "outputs": [
    {
     "data": {
      "text/html": [
       "<div>\n",
       "<style scoped>\n",
       "    .dataframe tbody tr th:only-of-type {\n",
       "        vertical-align: middle;\n",
       "    }\n",
       "\n",
       "    .dataframe tbody tr th {\n",
       "        vertical-align: top;\n",
       "    }\n",
       "\n",
       "    .dataframe thead th {\n",
       "        text-align: right;\n",
       "    }\n",
       "</style>\n",
       "<table border=\"1\" class=\"dataframe\">\n",
       "  <thead>\n",
       "    <tr style=\"text-align: right;\">\n",
       "      <th></th>\n",
       "      <th>0</th>\n",
       "      <th>1</th>\n",
       "      <th>2</th>\n",
       "      <th>3</th>\n",
       "      <th>4</th>\n",
       "      <th>5</th>\n",
       "      <th>6</th>\n",
       "    </tr>\n",
       "  </thead>\n",
       "  <tbody>\n",
       "    <tr>\n",
       "      <th>0</th>\n",
       "      <td>MANUFACTURING AT A GLANCE October 2023</td>\n",
       "      <td>MANUFACTURING AT A GLANCE October 2023</td>\n",
       "      <td>MANUFACTURING AT A GLANCE October 2023</td>\n",
       "      <td>MANUFACTURING AT A GLANCE October 2023</td>\n",
       "      <td>MANUFACTURING AT A GLANCE October 2023</td>\n",
       "      <td>MANUFACTURING AT A GLANCE October 2023</td>\n",
       "      <td>MANUFACTURING AT A GLANCE October 2023</td>\n",
       "    </tr>\n",
       "    <tr>\n",
       "      <th>1</th>\n",
       "      <td>Index</td>\n",
       "      <td>Series Index Oct</td>\n",
       "      <td>Series Index Sep</td>\n",
       "      <td>Percentage Point Change</td>\n",
       "      <td>Direction</td>\n",
       "      <td>Rate of Change</td>\n",
       "      <td>Trend* (Months)</td>\n",
       "    </tr>\n",
       "    <tr>\n",
       "      <th>2</th>\n",
       "      <td>Manufacturing PMI®</td>\n",
       "      <td>46.7</td>\n",
       "      <td>49.0</td>\n",
       "      <td>-2.3</td>\n",
       "      <td>Contracting</td>\n",
       "      <td>Faster</td>\n",
       "      <td>12</td>\n",
       "    </tr>\n",
       "    <tr>\n",
       "      <th>3</th>\n",
       "      <td>New Orders</td>\n",
       "      <td>45.5</td>\n",
       "      <td>49.2</td>\n",
       "      <td>-3.7</td>\n",
       "      <td>Contracting</td>\n",
       "      <td>Faster</td>\n",
       "      <td>14</td>\n",
       "    </tr>\n",
       "    <tr>\n",
       "      <th>4</th>\n",
       "      <td>Production</td>\n",
       "      <td>50.4</td>\n",
       "      <td>52.5</td>\n",
       "      <td>-2.1</td>\n",
       "      <td>Growing</td>\n",
       "      <td>Slower</td>\n",
       "      <td>2</td>\n",
       "    </tr>\n",
       "    <tr>\n",
       "      <th>5</th>\n",
       "      <td>Employment</td>\n",
       "      <td>46.8</td>\n",
       "      <td>51.2</td>\n",
       "      <td>-4.4</td>\n",
       "      <td>Contracting</td>\n",
       "      <td>From Growing</td>\n",
       "      <td>1</td>\n",
       "    </tr>\n",
       "    <tr>\n",
       "      <th>6</th>\n",
       "      <td>Supplier Deliveries</td>\n",
       "      <td>47.7</td>\n",
       "      <td>46.4</td>\n",
       "      <td>+1.3</td>\n",
       "      <td>Faster</td>\n",
       "      <td>Slower</td>\n",
       "      <td>13</td>\n",
       "    </tr>\n",
       "    <tr>\n",
       "      <th>7</th>\n",
       "      <td>Inventories</td>\n",
       "      <td>43.3</td>\n",
       "      <td>45.8</td>\n",
       "      <td>-2.5</td>\n",
       "      <td>Contracting</td>\n",
       "      <td>Faster</td>\n",
       "      <td>8</td>\n",
       "    </tr>\n",
       "    <tr>\n",
       "      <th>8</th>\n",
       "      <td>Customers' Inventories</td>\n",
       "      <td>48.6</td>\n",
       "      <td>47.1</td>\n",
       "      <td>+1.5</td>\n",
       "      <td>Too Low</td>\n",
       "      <td>Slower</td>\n",
       "      <td>5</td>\n",
       "    </tr>\n",
       "    <tr>\n",
       "      <th>9</th>\n",
       "      <td>Prices</td>\n",
       "      <td>45.1</td>\n",
       "      <td>43.8</td>\n",
       "      <td>+1.3</td>\n",
       "      <td>Decreasing</td>\n",
       "      <td>Slower</td>\n",
       "      <td>6</td>\n",
       "    </tr>\n",
       "    <tr>\n",
       "      <th>10</th>\n",
       "      <td>Backlog of Orders</td>\n",
       "      <td>42.2</td>\n",
       "      <td>42.4</td>\n",
       "      <td>-0.2</td>\n",
       "      <td>Contracting</td>\n",
       "      <td>Faster</td>\n",
       "      <td>13</td>\n",
       "    </tr>\n",
       "    <tr>\n",
       "      <th>11</th>\n",
       "      <td>New Export Orders</td>\n",
       "      <td>49.4</td>\n",
       "      <td>47.4</td>\n",
       "      <td>+2.0</td>\n",
       "      <td>Contracting</td>\n",
       "      <td>Slower</td>\n",
       "      <td>5</td>\n",
       "    </tr>\n",
       "    <tr>\n",
       "      <th>12</th>\n",
       "      <td>Imports</td>\n",
       "      <td>47.9</td>\n",
       "      <td>48.2</td>\n",
       "      <td>-0.3</td>\n",
       "      <td>Contracting</td>\n",
       "      <td>Faster</td>\n",
       "      <td>12</td>\n",
       "    </tr>\n",
       "    <tr>\n",
       "      <th>13</th>\n",
       "      <td>OVERALL ECONOMY</td>\n",
       "      <td>OVERALL ECONOMY</td>\n",
       "      <td>OVERALL ECONOMY</td>\n",
       "      <td>OVERALL ECONOMY</td>\n",
       "      <td>Contracting</td>\n",
       "      <td>From Growing</td>\n",
       "      <td>1</td>\n",
       "    </tr>\n",
       "    <tr>\n",
       "      <th>14</th>\n",
       "      <td>Manufacturing Sector</td>\n",
       "      <td>Manufacturing Sector</td>\n",
       "      <td>Manufacturing Sector</td>\n",
       "      <td>Manufacturing Sector</td>\n",
       "      <td>Contracting</td>\n",
       "      <td>Faster</td>\n",
       "      <td>12</td>\n",
       "    </tr>\n",
       "  </tbody>\n",
       "</table>\n",
       "</div>"
      ],
      "text/plain": [
       "                                         0  \\\n",
       "0   MANUFACTURING AT A GLANCE October 2023   \n",
       "1                                    Index   \n",
       "2                       Manufacturing PMI®   \n",
       "3                               New Orders   \n",
       "4                               Production   \n",
       "5                               Employment   \n",
       "6                      Supplier Deliveries   \n",
       "7                              Inventories   \n",
       "8                   Customers' Inventories   \n",
       "9                                   Prices   \n",
       "10                       Backlog of Orders   \n",
       "11                       New Export Orders   \n",
       "12                                 Imports   \n",
       "13                         OVERALL ECONOMY   \n",
       "14                    Manufacturing Sector   \n",
       "\n",
       "                                         1  \\\n",
       "0   MANUFACTURING AT A GLANCE October 2023   \n",
       "1                         Series Index Oct   \n",
       "2                                     46.7   \n",
       "3                                     45.5   \n",
       "4                                     50.4   \n",
       "5                                     46.8   \n",
       "6                                     47.7   \n",
       "7                                     43.3   \n",
       "8                                     48.6   \n",
       "9                                     45.1   \n",
       "10                                    42.2   \n",
       "11                                    49.4   \n",
       "12                                    47.9   \n",
       "13                         OVERALL ECONOMY   \n",
       "14                    Manufacturing Sector   \n",
       "\n",
       "                                         2  \\\n",
       "0   MANUFACTURING AT A GLANCE October 2023   \n",
       "1                         Series Index Sep   \n",
       "2                                     49.0   \n",
       "3                                     49.2   \n",
       "4                                     52.5   \n",
       "5                                     51.2   \n",
       "6                                     46.4   \n",
       "7                                     45.8   \n",
       "8                                     47.1   \n",
       "9                                     43.8   \n",
       "10                                    42.4   \n",
       "11                                    47.4   \n",
       "12                                    48.2   \n",
       "13                         OVERALL ECONOMY   \n",
       "14                    Manufacturing Sector   \n",
       "\n",
       "                                         3  \\\n",
       "0   MANUFACTURING AT A GLANCE October 2023   \n",
       "1                  Percentage Point Change   \n",
       "2                                     -2.3   \n",
       "3                                     -3.7   \n",
       "4                                     -2.1   \n",
       "5                                     -4.4   \n",
       "6                                     +1.3   \n",
       "7                                     -2.5   \n",
       "8                                     +1.5   \n",
       "9                                     +1.3   \n",
       "10                                    -0.2   \n",
       "11                                    +2.0   \n",
       "12                                    -0.3   \n",
       "13                         OVERALL ECONOMY   \n",
       "14                    Manufacturing Sector   \n",
       "\n",
       "                                         4  \\\n",
       "0   MANUFACTURING AT A GLANCE October 2023   \n",
       "1                                Direction   \n",
       "2                              Contracting   \n",
       "3                              Contracting   \n",
       "4                                  Growing   \n",
       "5                              Contracting   \n",
       "6                                   Faster   \n",
       "7                              Contracting   \n",
       "8                                  Too Low   \n",
       "9                               Decreasing   \n",
       "10                             Contracting   \n",
       "11                             Contracting   \n",
       "12                             Contracting   \n",
       "13                             Contracting   \n",
       "14                             Contracting   \n",
       "\n",
       "                                         5  \\\n",
       "0   MANUFACTURING AT A GLANCE October 2023   \n",
       "1                           Rate of Change   \n",
       "2                                   Faster   \n",
       "3                                   Faster   \n",
       "4                                   Slower   \n",
       "5                             From Growing   \n",
       "6                                   Slower   \n",
       "7                                   Faster   \n",
       "8                                   Slower   \n",
       "9                                   Slower   \n",
       "10                                  Faster   \n",
       "11                                  Slower   \n",
       "12                                  Faster   \n",
       "13                            From Growing   \n",
       "14                                  Faster   \n",
       "\n",
       "                                         6  \n",
       "0   MANUFACTURING AT A GLANCE October 2023  \n",
       "1                          Trend* (Months)  \n",
       "2                                       12  \n",
       "3                                       14  \n",
       "4                                        2  \n",
       "5                                        1  \n",
       "6                                       13  \n",
       "7                                        8  \n",
       "8                                        5  \n",
       "9                                        6  \n",
       "10                                      13  \n",
       "11                                       5  \n",
       "12                                      12  \n",
       "13                                       1  \n",
       "14                                      12  "
      ]
     },
     "execution_count": 267,
     "metadata": {},
     "output_type": "execute_result"
    }
   ],
   "source": [
    "data_table"
   ]
  },
  {
   "cell_type": "code",
   "execution_count": 268,
   "metadata": {},
   "outputs": [
    {
     "data": {
      "text/html": [
       "<div>\n",
       "<style scoped>\n",
       "    .dataframe tbody tr th:only-of-type {\n",
       "        vertical-align: middle;\n",
       "    }\n",
       "\n",
       "    .dataframe tbody tr th {\n",
       "        vertical-align: top;\n",
       "    }\n",
       "\n",
       "    .dataframe thead th {\n",
       "        text-align: right;\n",
       "    }\n",
       "</style>\n",
       "<table border=\"1\" class=\"dataframe\">\n",
       "  <thead>\n",
       "    <tr style=\"text-align: right;\">\n",
       "      <th></th>\n",
       "      <th>pattern</th>\n",
       "      <th>rest</th>\n",
       "    </tr>\n",
       "  </thead>\n",
       "  <tbody>\n",
       "    <tr>\n",
       "      <th>0</th>\n",
       "      <td>Commodities Up in Price</td>\n",
       "      <td>Crude Oil (3); Electronic Components (2); Labor — Professional Services; Labor — Temporary (2); Natural Gas (4); Plastic Resins* (2); Polypropylen...</td>\n",
       "    </tr>\n",
       "    <tr>\n",
       "      <th>1</th>\n",
       "      <td>Commodities Down in Price</td>\n",
       "      <td>Aluminum (5); Caustic Soda (4); Copper Based Products; Corrugate Boxes (3); Packaging; Plastic Resins* (17); Road Freight*; Steel* (7); Steel — Ho...</td>\n",
       "    </tr>\n",
       "    <tr>\n",
       "      <th>2</th>\n",
       "      <td>Commodities in</td>\n",
       "      <td>Short Supply Electrical Components (37); Electrical Equipment; and Electronic Components (35).</td>\n",
       "    </tr>\n",
       "  </tbody>\n",
       "</table>\n",
       "</div>"
      ],
      "text/plain": [
       "                     pattern  \\\n",
       "0    Commodities Up in Price   \n",
       "1  Commodities Down in Price   \n",
       "2             Commodities in   \n",
       "\n",
       "                                                                                                                                                    rest  \n",
       "0  Crude Oil (3); Electronic Components (2); Labor — Professional Services; Labor — Temporary (2); Natural Gas (4); Plastic Resins* (2); Polypropylen...  \n",
       "1  Aluminum (5); Caustic Soda (4); Copper Based Products; Corrugate Boxes (3); Packaging; Plastic Resins* (17); Road Freight*; Steel* (7); Steel — Ho...  \n",
       "2                                                         Short Supply Electrical Components (37); Electrical Equipment; and Electronic Components (35).  "
      ]
     },
     "execution_count": 268,
     "metadata": {},
     "output_type": "execute_result"
    }
   ],
   "source": [
    "commodity_df"
   ]
  },
  {
   "cell_type": "code",
   "execution_count": 269,
   "metadata": {},
   "outputs": [
    {
     "data": {
      "text/html": [
       "<div>\n",
       "<style scoped>\n",
       "    .dataframe tbody tr th:only-of-type {\n",
       "        vertical-align: middle;\n",
       "    }\n",
       "\n",
       "    .dataframe tbody tr th {\n",
       "        vertical-align: top;\n",
       "    }\n",
       "\n",
       "    .dataframe thead th {\n",
       "        text-align: right;\n",
       "    }\n",
       "</style>\n",
       "<table border=\"1\" class=\"dataframe\">\n",
       "  <thead>\n",
       "    <tr style=\"text-align: right;\">\n",
       "      <th></th>\n",
       "      <th>Industry</th>\n",
       "      <th>Ranking</th>\n",
       "    </tr>\n",
       "  </thead>\n",
       "  <tbody>\n",
       "    <tr>\n",
       "      <th>0</th>\n",
       "      <td>PMI</td>\n",
       "      <td>The two manufacturing industries that reported growth in October are: Food, Beverage &amp; Tobacco Products; and Plastics &amp; Rubber Products. The 13 in...</td>\n",
       "    </tr>\n",
       "    <tr>\n",
       "      <th>1</th>\n",
       "      <td>New Order</td>\n",
       "      <td>The three manufacturing industries that reported growth in new orders in October are: Plastics &amp; Rubber Products; Primary Metals; and Transportati...</td>\n",
       "    </tr>\n",
       "    <tr>\n",
       "      <th>2</th>\n",
       "      <td>Production</td>\n",
       "      <td>The four industries reporting growth in production during the month of October are: Paper Products; Plastics &amp; Rubber Products; Food, Beverage &amp; T...</td>\n",
       "    </tr>\n",
       "    <tr>\n",
       "      <th>3</th>\n",
       "      <td>Employment</td>\n",
       "      <td>Of 18 manufacturing industries, four reported employment growth in October: Nonmetallic Mineral Products; Machinery; Transportation Equipment; and...</td>\n",
       "    </tr>\n",
       "    <tr>\n",
       "      <th>4</th>\n",
       "      <td>Supplier Deliveries</td>\n",
       "      <td>The two manufacturing industries reporting slower supplier deliveries in October are: Wood Products; and Food, Beverage &amp; Tobacco Products. The se...</td>\n",
       "    </tr>\n",
       "    <tr>\n",
       "      <th>5</th>\n",
       "      <td>Inventories</td>\n",
       "      <td>Of 18 manufacturing industries, the only one reporting higher inventories in October is Food, Beverage &amp; Tobacco Products. The 12 industries repor...</td>\n",
       "    </tr>\n",
       "    <tr>\n",
       "      <th>6</th>\n",
       "      <td>Customers_inv</td>\n",
       "      <td>The three industries reporting customers' inventories as too high in October are: Textile Mills; Plastics &amp; Rubber Products; and Computer &amp; Electr...</td>\n",
       "    </tr>\n",
       "    <tr>\n",
       "      <th>7</th>\n",
       "      <td>Prices</td>\n",
       "      <td>In October, the two industries that reported paying increased prices for raw materials are: Nonmetallic Mineral Products; and Plastics &amp; Rubber Pr...</td>\n",
       "    </tr>\n",
       "    <tr>\n",
       "      <th>8</th>\n",
       "      <td>Backlog Orders</td>\n",
       "      <td>The three industries reporting growth in order backlogs in October are: Primary Metals; Food, Beverage &amp; Tobacco Products; and Transportation Equi...</td>\n",
       "    </tr>\n",
       "    <tr>\n",
       "      <th>9</th>\n",
       "      <td>New Export Orders</td>\n",
       "      <td>The six industries reporting growth in new export orders in October — in the following order — are: Nonmetallic Mineral Products; Paper Products; ...</td>\n",
       "    </tr>\n",
       "    <tr>\n",
       "      <th>10</th>\n",
       "      <td>Imports</td>\n",
       "      <td>The three industries reporting an increase in import volumes in October are: Wood Products; Food, Beverage &amp; Tobacco Products; and Chemical Produc...</td>\n",
       "    </tr>\n",
       "  </tbody>\n",
       "</table>\n",
       "</div>"
      ],
      "text/plain": [
       "               Industry  \\\n",
       "0                   PMI   \n",
       "1             New Order   \n",
       "2            Production   \n",
       "3            Employment   \n",
       "4   Supplier Deliveries   \n",
       "5           Inventories   \n",
       "6         Customers_inv   \n",
       "7                Prices   \n",
       "8        Backlog Orders   \n",
       "9     New Export Orders   \n",
       "10              Imports   \n",
       "\n",
       "                                                                                                                                                  Ranking  \n",
       "0   The two manufacturing industries that reported growth in October are: Food, Beverage & Tobacco Products; and Plastics & Rubber Products. The 13 in...  \n",
       "1   The three manufacturing industries that reported growth in new orders in October are: Plastics & Rubber Products; Primary Metals; and Transportati...  \n",
       "2   The four industries reporting growth in production during the month of October are: Paper Products; Plastics & Rubber Products; Food, Beverage & T...  \n",
       "3   Of 18 manufacturing industries, four reported employment growth in October: Nonmetallic Mineral Products; Machinery; Transportation Equipment; and...  \n",
       "4   The two manufacturing industries reporting slower supplier deliveries in October are: Wood Products; and Food, Beverage & Tobacco Products. The se...  \n",
       "5   Of 18 manufacturing industries, the only one reporting higher inventories in October is Food, Beverage & Tobacco Products. The 12 industries repor...  \n",
       "6   The three industries reporting customers' inventories as too high in October are: Textile Mills; Plastics & Rubber Products; and Computer & Electr...  \n",
       "7   In October, the two industries that reported paying increased prices for raw materials are: Nonmetallic Mineral Products; and Plastics & Rubber Pr...  \n",
       "8   The three industries reporting growth in order backlogs in October are: Primary Metals; Food, Beverage & Tobacco Products; and Transportation Equi...  \n",
       "9   The six industries reporting growth in new export orders in October — in the following order — are: Nonmetallic Mineral Products; Paper Products; ...  \n",
       "10  The three industries reporting an increase in import volumes in October are: Wood Products; Food, Beverage & Tobacco Products; and Chemical Produc...  "
      ]
     },
     "execution_count": 269,
     "metadata": {},
     "output_type": "execute_result"
    }
   ],
   "source": [
    "ranking_df"
   ]
  },
  {
   "cell_type": "markdown",
   "metadata": {},
   "source": [
    "### Working on Data Clenaing ### "
   ]
  },
  {
   "cell_type": "markdown",
   "metadata": {},
   "source": [
    "##### 1. PMI Index Level #####"
   ]
  },
  {
   "cell_type": "code",
   "execution_count": 270,
   "metadata": {},
   "outputs": [],
   "source": [
    "# variables = data_table, respondent_comment, commodity_df, ranking_df\n",
    "# 1. Working on data_table\n",
    "\n",
    "new_table = data_table.iloc[1:]\n",
    "header = new_table.iloc[0]\n",
    "final_table = new_table.iloc[1:]\n",
    "final_table.columns = header"
   ]
  },
  {
   "cell_type": "code",
   "execution_count": 271,
   "metadata": {},
   "outputs": [],
   "source": [
    "new_month_level = final_table.iloc[:,1]\n",
    "new_month_level = new_month_level[:-2]\n",
    "new_month_level = new_month_level.to_frame().T"
   ]
  },
  {
   "cell_type": "code",
   "execution_count": 272,
   "metadata": {},
   "outputs": [],
   "source": [
    "latest_date = index_data['Date'].max()\n",
    "new_date = latest_date + relativedelta(months=1)\n",
    "new_date_str = new_date.strftime('%Y-%m-%d')\n",
    "new_month_level[\"Date\"] = new_date\n",
    "new_month_level = new_month_level[['Date'] + [col for col in new_month_level if col != 'Date']]\n",
    "new_month_level.columns = index_data.columns\n",
    "\n",
    "updated_index_data = pd.concat([index_data, new_month_level], ignore_index=True)"
   ]
  },
  {
   "cell_type": "markdown",
   "metadata": {},
   "source": [
    "##### 2. What Respondents Saying #####"
   ]
  },
  {
   "cell_type": "code",
   "execution_count": 273,
   "metadata": {},
   "outputs": [
    {
     "data": {
      "text/html": [
       "<div>\n",
       "<style scoped>\n",
       "    .dataframe tbody tr th:only-of-type {\n",
       "        vertical-align: middle;\n",
       "    }\n",
       "\n",
       "    .dataframe tbody tr th {\n",
       "        vertical-align: top;\n",
       "    }\n",
       "\n",
       "    .dataframe thead th {\n",
       "        text-align: right;\n",
       "    }\n",
       "</style>\n",
       "<table border=\"1\" class=\"dataframe\">\n",
       "  <thead>\n",
       "    <tr style=\"text-align: right;\">\n",
       "      <th></th>\n",
       "      <th>WHAT RESPONDENTS ARE SAYING</th>\n",
       "    </tr>\n",
       "  </thead>\n",
       "  <tbody>\n",
       "    <tr>\n",
       "      <th>0</th>\n",
       "      <td>\"Markets remain tough, and we have focused more resources on sales and marketing to drive greater sales and new market penetration with our device...</td>\n",
       "    </tr>\n",
       "    <tr>\n",
       "      <th>1</th>\n",
       "      <td>\"Economy absolutely slowing down. Less optimism regarding the first quarter of 2024.\" [Chemical Products]</td>\n",
       "    </tr>\n",
       "    <tr>\n",
       "      <th>2</th>\n",
       "      <td>\"Backlog is starting to dip a bit. We're hearing of cutbacks in 2024 ordering, but it's still very strong compared to historical averages.\" [Trans...</td>\n",
       "    </tr>\n",
       "    <tr>\n",
       "      <th>3</th>\n",
       "      <td>\"Markets appear to have slightly slowed. Certain commodities remain high.\" [Food, Beverage &amp; Tobacco Products]</td>\n",
       "    </tr>\n",
       "    <tr>\n",
       "      <th>4</th>\n",
       "      <td>\"Seeing a slowdown on bookings, and our backlog is down to five days from 15 weeks earlier this year.\" [Machinery]</td>\n",
       "    </tr>\n",
       "    <tr>\n",
       "      <th>5</th>\n",
       "      <td>\"A slow fourth quarter, and we're clearly in a mild industry recession. However, demand is down less than 5 percent, and customer confidence of a ...</td>\n",
       "    </tr>\n",
       "    <tr>\n",
       "      <th>6</th>\n",
       "      <td>\"Business is decent — not great, but steady and solid. We are meeting our sales and margin goals, but it's definitely hard to guess the future.\" [...</td>\n",
       "    </tr>\n",
       "    <tr>\n",
       "      <th>7</th>\n",
       "      <td>\"Commercial constructions continue to remain ahead of 2022. We have some concern over 2024 regarding inflation, as well as gas and oil pricing pot...</td>\n",
       "    </tr>\n",
       "    <tr>\n",
       "      <th>8</th>\n",
       "      <td>\"Demand for raw materials/chemicals appears to be stable heading into the fourth quarter.\" [Petroleum &amp; Coal Products]</td>\n",
       "    </tr>\n",
       "    <tr>\n",
       "      <th>9</th>\n",
       "      <td>\"Orders continue to increase in some sectors. Construction industry-related products/orders are slowing down.\" [Plastics &amp; Rubber Products]</td>\n",
       "    </tr>\n",
       "    <tr>\n",
       "      <th>10</th>\n",
       "      <td>\"Despite the ongoing United Auto Workers (UAW) strike, there's a firmness and pickup in orders for the rest of the fourth quarter.\" [Primary Metals]</td>\n",
       "    </tr>\n",
       "  </tbody>\n",
       "</table>\n",
       "</div>"
      ],
      "text/plain": [
       "                                                                                                                              WHAT RESPONDENTS ARE SAYING\n",
       "0   \"Markets remain tough, and we have focused more resources on sales and marketing to drive greater sales and new market penetration with our device...\n",
       "1                                               \"Economy absolutely slowing down. Less optimism regarding the first quarter of 2024.\" [Chemical Products]\n",
       "2   \"Backlog is starting to dip a bit. We're hearing of cutbacks in 2024 ordering, but it's still very strong compared to historical averages.\" [Trans...\n",
       "3                                          \"Markets appear to have slightly slowed. Certain commodities remain high.\" [Food, Beverage & Tobacco Products]\n",
       "4                                      \"Seeing a slowdown on bookings, and our backlog is down to five days from 15 weeks earlier this year.\" [Machinery]\n",
       "5   \"A slow fourth quarter, and we're clearly in a mild industry recession. However, demand is down less than 5 percent, and customer confidence of a ...\n",
       "6   \"Business is decent — not great, but steady and solid. We are meeting our sales and margin goals, but it's definitely hard to guess the future.\" [...\n",
       "7   \"Commercial constructions continue to remain ahead of 2022. We have some concern over 2024 regarding inflation, as well as gas and oil pricing pot...\n",
       "8                                  \"Demand for raw materials/chemicals appears to be stable heading into the fourth quarter.\" [Petroleum & Coal Products]\n",
       "9             \"Orders continue to increase in some sectors. Construction industry-related products/orders are slowing down.\" [Plastics & Rubber Products]\n",
       "10   \"Despite the ongoing United Auto Workers (UAW) strike, there's a firmness and pickup in orders for the rest of the fourth quarter.\" [Primary Metals]"
      ]
     },
     "execution_count": 273,
     "metadata": {},
     "output_type": "execute_result"
    }
   ],
   "source": [
    "#pd.set_option('display.max_colwidth', None)\n",
    "pd.set_option('display.max_rows', None)\n",
    "pd.set_option('display.max_colwidth', 150)\n",
    "respondent_comment"
   ]
  },
  {
   "cell_type": "code",
   "execution_count": 274,
   "metadata": {},
   "outputs": [],
   "source": [
    "updated_comments = respondent_comment['WHAT RESPONDENTS ARE SAYING'].str.split('[', expand=True)\n",
    "updated_comments.columns = [new_date_str, 'Industry']\n",
    "updated_comments['Industry'] = updated_comments['Industry'].str.replace(']', '', regex=False)\n",
    "updated_comments[new_date_str] = updated_comments[new_date_str].str.replace('\"', '', regex=False)\n",
    "updated_comments = updated_comments.apply(lambda x: x.str.strip() if x.dtype == \"object\" else x)\n",
    "\n",
    "col_order = ['Industry',new_date_str]\n",
    "updated_comments = updated_comments[col_order]"
   ]
  },
  {
   "cell_type": "code",
   "execution_count": 275,
   "metadata": {},
   "outputs": [],
   "source": [
    "industry_col1 = comments['Industry']\n",
    "industry_col2 = updated_comments['Industry']\n",
    "\n",
    "merged_df = pd.concat([industry_col1, industry_col2], ignore_index=True)\n",
    "merged_series = merged_df.squeeze().drop_duplicates()\n",
    "merge_comment = merged_series.to_frame(name='Industry')"
   ]
  },
  {
   "cell_type": "code",
   "execution_count": 276,
   "metadata": {},
   "outputs": [],
   "source": [
    "merge_final_df1 = pd.merge(merge_comment, comments, on='Industry', how='left')\n",
    "final_comment = pd.merge(merge_final_df1, updated_comments, on='Industry', how='left')"
   ]
  },
  {
   "cell_type": "markdown",
   "metadata": {},
   "source": [
    "##### 3. Commodity Product Pricing #####"
   ]
  },
  {
   "cell_type": "code",
   "execution_count": 332,
   "metadata": {},
   "outputs": [],
   "source": [
    "commodity_df\n",
    "\n",
    "commodity_dfs = []\n",
    "\n",
    "for index, row in commodity_df.iterrows():\n",
    "    # Create a new DataFrame for the current row\n",
    "    row_df = pd.DataFrame([row])\n",
    "    # Append the new DataFrame to the list\n",
    "    commodity_dfs.append(row_df)\n",
    "    "
   ]
  },
  {
   "cell_type": "code",
   "execution_count": 388,
   "metadata": {},
   "outputs": [],
   "source": [
    "commodity_up_df = commodity_dfs[0]\n",
    "commodity_up_df_split = commodity_up_df['rest'].str.split(';', expand = True).T\n",
    "commodity_up_header = ['Commodities Up in Price']\n",
    "commodity_up_df_split.columns = commodity_up_header\n",
    "\n",
    "\n",
    "commodity_down_df = commodity_dfs[1]\n",
    "commodity_down_df_split = commodity_down_df['rest'].str.split(';', expand = True).T\n",
    "commodity_down_header = ['Commodities Down in Price']\n",
    "commodity_down_df_split.columns = commodity_down_header\n",
    "\n",
    "commodity_short_df = commodity_dfs[2]\n",
    "commodity_short_df_split = commodity_short_df['rest'].str.split(';', expand = True).T\n",
    "commodity_short_header = ['Commodities in Short Supply']\n",
    "commodity_short_df_split.columns = commodity_short_header"
   ]
  },
  {
   "cell_type": "markdown",
   "metadata": {},
   "source": [
    "commodity_up_df"
   ]
  },
  {
   "cell_type": "code",
   "execution_count": 389,
   "metadata": {},
   "outputs": [],
   "source": [
    "commodity_up_df_split[['Commodity Price Up', 'Number of Month']] = commodity_up_df_split['Commodities Up in Price'].str.split(\"(\", n=1, expand=True)\n",
    "commodity_up_df_split['Commodity Price Up'] = commodity_up_df_split['Commodity Price Up'].str.strip().str.replace(r'\\band\\b|\\*|\\.', '', regex=True)\n",
    "commodity_up_df_split['Number of Month'] = commodity_up_df_split['Number of Month'].str.rstrip(\")\").fillna('1')\n",
    "commodity_up_df_split = commodity_up_df_split.drop(columns=['Commodities Up in Price'])"
   ]
  },
  {
   "cell_type": "markdown",
   "metadata": {},
   "source": [
    "commodity_down_df"
   ]
  },
  {
   "cell_type": "code",
   "execution_count": 390,
   "metadata": {},
   "outputs": [],
   "source": [
    "commodity_down_df_split[['Commodity Price Down', 'Number of Month']] = commodity_down_df_split['Commodities Down in Price'].str.split(\"(\", n=1, expand=True)\n",
    "commodity_down_df_split['Commodity Price Down'] = commodity_down_df_split['Commodity Price Down'].str.strip().str.replace(r'\\band\\b|\\*|\\.', '', regex=True)\n",
    "commodity_down_df_split['Number of Month'] = commodity_down_df_split['Number of Month'].str.rstrip(\")\").fillna('1')\n",
    "commodity_down_df_split = commodity_down_df_split.drop(columns=['Commodities Down in Price'])"
   ]
  },
  {
   "cell_type": "markdown",
   "metadata": {},
   "source": [
    "Commodity in short supply"
   ]
  },
  {
   "cell_type": "code",
   "execution_count": 391,
   "metadata": {},
   "outputs": [],
   "source": [
    "commodity_short_df_split[['Commodities: Short Supply', 'Number of Month']] = commodity_short_df_split['Commodities in Short Supply'].str.split(\"(\", n=1, expand=True)\n",
    "commodity_short_df_split['Commodities: Short Supply'] = commodity_short_df_split['Commodities: Short Supply'].str.strip().str.replace(r'\\band\\b|\\*|\\.', '', regex=True)\n",
    "commodity_short_df_split['Number of Month'] = commodity_short_df_split['Number of Month'].str.rstrip(\")\").str.rstrip(\").\").fillna('1')\n",
    "commodity_short_df_split = commodity_short_df_split.drop(columns=['Commodities in Short Supply'])\n",
    "commodity_short_df_split['Commodities: Short Supply'] = commodity_short_df_split['Commodities: Short Supply'].str.replace('Short Supply ', '', regex=True)"
   ]
  },
  {
   "cell_type": "markdown",
   "metadata": {},
   "source": [
    "Commodity Data Final Output"
   ]
  },
  {
   "cell_type": "code",
   "execution_count": 393,
   "metadata": {},
   "outputs": [],
   "source": [
    "commodity_short_df_split = commodity_short_df_split.sort_values(['Number of Month'])\n",
    "commodity_up_df_split = commodity_up_df_split.sort_values(['Number of Month'])\n",
    "commodity_down_df_split = commodity_down_df_split.sort_values(['Number of Month'])"
   ]
  },
  {
   "cell_type": "markdown",
   "metadata": {},
   "source": [
    "##### 4. Industry Ranking #####"
   ]
  },
  {
   "cell_type": "code",
   "execution_count": 413,
   "metadata": {},
   "outputs": [],
   "source": [
    "ranking_df['Ranking'] = ranking_df['Ranking'].str.strip().str.replace('—','',regex = False).str.replace(',','',regex = False)\n",
    "ranking_df_split = ranking_df['Ranking'].str.split('.', expand = True)\n",
    "ranking_df_split.columns = ['Industry Up','Industry Down','No Change','None']"
   ]
  },
  {
   "cell_type": "code",
   "execution_count": 414,
   "metadata": {},
   "outputs": [],
   "source": [
    "ranking_up_df = pd.concat([ranking_df['Industry'], ranking_df_split['Industry Up']], axis=1)\n",
    "ranking_down_df = pd.concat([ranking_df['Industry'], ranking_df_split['Industry Down']], axis=1)"
   ]
  },
  {
   "cell_type": "code",
   "execution_count": 415,
   "metadata": {},
   "outputs": [],
   "source": [
    "ranking_up = ranking_up_df['Industry Up'].str.split(':', expand=True)\n",
    "ranking_down = ranking_down_df['Industry Down'].str.split(':', expand=True)\n",
    "\n",
    "col_name = ['split_col','ranking_col']\n",
    "ranking_up.columns = col_name\n",
    "ranking_down.columns = col_name"
   ]
  },
  {
   "cell_type": "code",
   "execution_count": 416,
   "metadata": {},
   "outputs": [],
   "source": [
    "filter_is_up = ranking_up['split_col'].str.split('is ', expand=True)\n",
    "filter_is_down = ranking_down['split_col'].str.split('is ', expand=True)"
   ]
  },
  {
   "cell_type": "code",
   "execution_count": 417,
   "metadata": {},
   "outputs": [],
   "source": [
    "filter_is_up = pd.concat([ranking_df['Industry'], filter_is_up], axis=1)\n",
    "filter_is_down = pd.concat([ranking_df['Industry'], filter_is_down], axis=1)"
   ]
  },
  {
   "cell_type": "code",
   "execution_count": 418,
   "metadata": {},
   "outputs": [],
   "source": [
    "def select_columns(df):\n",
    "    if len(df.columns) >= 3:  # Check if DataFrame has at least 3 columns\n",
    "        return df.iloc[:, [0, 2]]  # Select first and third columns\n",
    "    else:\n",
    "        return df.iloc[:, [0]]  # Select only the first column\n",
    "\n",
    "filter_is_up_df = select_columns(filter_is_up)\n",
    "filter_is_down_df = select_columns(filter_is_down)"
   ]
  },
  {
   "cell_type": "code",
   "execution_count": 419,
   "metadata": {},
   "outputs": [],
   "source": [
    "ranking_up_final = pd.concat([ranking_df['Industry'], ranking_up['ranking_col']], axis=1)\n",
    "ranking_down_final = pd.concat([ranking_df['Industry'], ranking_down['ranking_col']], axis=1)"
   ]
  },
  {
   "cell_type": "code",
   "execution_count": 420,
   "metadata": {},
   "outputs": [],
   "source": [
    "ranking_up_final = pd.merge(ranking_up_final,filter_is_up_df, on= 'Industry')\n",
    "ranking_down_final = pd.merge(ranking_down_final,filter_is_down_df, on= 'Industry')"
   ]
  },
  {
   "cell_type": "code",
   "execution_count": 421,
   "metadata": {},
   "outputs": [],
   "source": [
    "def merge_columns(df):\n",
    "    if len(df.columns) >= 3:\n",
    "        df['Combined'] = df.iloc[:, 1].fillna(df.iloc[:, 2])\n",
    "        df.drop(['ranking_col', 1], axis=1, inplace=True)\n",
    "        return df\n",
    "    else:\n",
    "        df.rename(columns={'ranking_col': 'Combined'}, inplace=True)\n",
    "        return df\n",
    "\n",
    "ranking_up_final = merge_columns(ranking_up_final)\n",
    "ranking_down_final = merge_columns(ranking_down_final)"
   ]
  },
  {
   "cell_type": "code",
   "execution_count": 422,
   "metadata": {},
   "outputs": [],
   "source": [
    "ranking_up_final = ranking_up_final['Combined'].str.split(';', expand=True)\n",
    "ranking_down_final = ranking_down_final['Combined'].str.split(';', expand=True)"
   ]
  },
  {
   "cell_type": "code",
   "execution_count": 423,
   "metadata": {},
   "outputs": [],
   "source": [
    "ranking_up_final = ranking_up_final.map(lambda x: x.replace('and', '').strip() if isinstance(x, str) else x)\n",
    "ranking_down_final = ranking_down_final.map(lambda x: x.replace('and', '').strip() if isinstance(x, str) else x)"
   ]
  },
  {
   "cell_type": "code",
   "execution_count": 424,
   "metadata": {},
   "outputs": [],
   "source": [
    "ranking_up_final = pd.concat([ranking_df['Industry'], ranking_up_final], axis=1)\n",
    "ranking_down_final = pd.concat([ranking_df['Industry'], ranking_down_final], axis=1)"
   ]
  },
  {
   "cell_type": "code",
   "execution_count": 425,
   "metadata": {},
   "outputs": [],
   "source": [
    "rakning_up_column_order = [ranking_up_final.columns[0]] + list(range(1, len(ranking_up_final.columns)))\n",
    "rakning_down_column_order = [ranking_down_final.columns[0]] + list(range(-1, -len(ranking_down_final.columns), -1))\n",
    "\n",
    "ranking_up_final.columns = rakning_up_column_order\n",
    "ranking_down_final.columns = rakning_down_column_order"
   ]
  },
  {
   "cell_type": "code",
   "execution_count": 426,
   "metadata": {},
   "outputs": [],
   "source": [
    "ranking_up_df = pd.melt(ranking_up_final, id_vars=['Industry'],var_name='myVarname', value_name='myValname')\n",
    "ranking_down_df = pd.melt(ranking_down_final, id_vars=['Industry'],var_name='myVarname', value_name='myValname')"
   ]
  },
  {
   "cell_type": "code",
   "execution_count": 427,
   "metadata": {},
   "outputs": [],
   "source": [
    "industry_ranking_final = pd.concat([ranking_up_df, ranking_down_df],ignore_index=True)\n",
    "\n",
    "industry_ranking_final = industry_ranking_final.rename(columns={'Industry': 'Index','myVarname': new_date_str, 'myValname': 'Industry'})\n",
    "\n",
    "new_col_order = ['Index','Industry',new_date_str]\n",
    "industry_ranking_final = industry_ranking_final[new_col_order]\n"
   ]
  },
  {
   "cell_type": "code",
   "execution_count": 428,
   "metadata": {},
   "outputs": [],
   "source": [
    "desired_order = ranking_df['Industry'].to_list()\n",
    "\n",
    "industry_ranking_final['Index'] = pd.Categorical(industry_ranking_final['Index'], categories=desired_order, ordered=True)\n",
    "industry_ranking_final = industry_ranking_final.sort_values(['Index',new_date_str])\n",
    "latest_industry_ranking = industry_ranking_final.dropna(subset=['Industry'])\n",
    "\n",
    "sector_ranking_final = pd.merge(sector_ranking, latest_industry_ranking, on=['Index', 'Industry'], how='left')"
   ]
  },
  {
   "cell_type": "markdown",
   "metadata": {},
   "source": [
    "# Final Step - Consolidation & Exporting  #"
   ]
  },
  {
   "cell_type": "code",
   "execution_count": 429,
   "metadata": {},
   "outputs": [],
   "source": [
    "# 1. Output below does not require data overrite \n",
    "\n",
    "final_table.to_excel('/Users/jackyliu/Desktop/python/pmi/monthly_table.xlsx', index=False)\n",
    "commodity_short_df_split.to_excel('/Users/jackyliu/Desktop/python/pmi/commmodity_short.xlsx', index=False)\n",
    "commodity_up_df_split.to_excel('/Users/jackyliu/Desktop/python/pmi/commmodity_up.xlsx', index=False)\n",
    "commodity_down_df_split.to_excel('/Users/jackyliu/Desktop/python/pmi/commmodity_down.xlsx', index=False)\n",
    "\n",
    "# 2. Output below requires data overrite over the existing file \n",
    "\n",
    "updated_index_data.to_excel('/Users/jackyliu/Desktop/python/pmi/pmi_level.xlsx', index=False)\n",
    "final_comment.to_excel('/Users/jackyliu/Desktop/python/pmi/comments.xlsx', index=False)\n",
    "sector_ranking_final.to_excel('/Users/jackyliu/Desktop/python/pmi/sector_ranking.xlsx', index=False)"
   ]
  },
  {
   "cell_type": "code",
   "execution_count": null,
   "metadata": {},
   "outputs": [],
   "source": []
  }
 ],
 "metadata": {
  "kernelspec": {
   "display_name": "Python 3",
   "language": "python",
   "name": "python3"
  },
  "language_info": {
   "codemirror_mode": {
    "name": "ipython",
    "version": 3
   },
   "file_extension": ".py",
   "mimetype": "text/x-python",
   "name": "python",
   "nbconvert_exporter": "python",
   "pygments_lexer": "ipython3",
   "version": "3.9.6"
  }
 },
 "nbformat": 4,
 "nbformat_minor": 2
}
