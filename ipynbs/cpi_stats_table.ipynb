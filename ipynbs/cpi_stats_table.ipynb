{
  "metadata": {
    "kernelspec": {
      "name": "python",
      "display_name": "Python (Pyodide)",
      "language": "python"
    },
    "language_info": {
      "codemirror_mode": {
        "name": "python",
        "version": 3
      },
      "file_extension": ".py",
      "mimetype": "text/x-python",
      "name": "python",
      "nbconvert_exporter": "python",
      "pygments_lexer": "ipython3",
      "version": "3.8"
    },
    "widgets": {
      "application/vnd.jupyter.widget-state+json": {
        "version_major": 2,
        "version_minor": 0,
        "state": {}
      }
    }
  },
  "nbformat_minor": 4,
  "nbformat": 4,
  "cells": [
    {
      "cell_type": "code",
      "source": "%pip install -q openpyxl\n%pip install -q pyecharts\n%pip install -q fredapi",
      "metadata": {
        "trusted": true
      },
      "outputs": [],
      "execution_count": 1
    },
    {
      "cell_type": "code",
      "source": "import pandas as pd\nimport numpy as np\nimport openpyxl\nimport pyecharts\nimport fredapi as Fred",
      "metadata": {
        "trusted": true
      },
      "outputs": [],
      "execution_count": 168
    },
    {
      "cell_type": "code",
      "source": "fred = Fred(api_key=\"a4459da91e23d9116f98724098d92428\")",
      "metadata": {
        "trusted": true
      },
      "outputs": [
        {
          "ename": "<class 'TypeError'>",
          "evalue": "'module' object is not callable",
          "traceback": [
            "\u001b[0;31m---------------------------------------------------------------------------\u001b[0m",
            "\u001b[0;31mTypeError\u001b[0m                                 Traceback (most recent call last)",
            "Cell \u001b[0;32mIn[164], line 1\u001b[0m\n\u001b[0;32m----> 1\u001b[0m fred \u001b[38;5;241m=\u001b[39m \u001b[43mfred\u001b[49m\u001b[43m(\u001b[49m\u001b[43mapi_key\u001b[49m\u001b[38;5;241;43m=\u001b[39;49m\u001b[38;5;124;43m\"\u001b[39;49m\u001b[38;5;124;43ma4459da91e23d9116f98724098d92428\u001b[39;49m\u001b[38;5;124;43m\"\u001b[39;49m\u001b[43m)\u001b[49m\n",
            "\u001b[0;31mTypeError\u001b[0m: 'module' object is not callable"
          ],
          "output_type": "error"
        }
      ],
      "execution_count": 164
    },
    {
      "cell_type": "code",
      "source": "file_path = 'dataset/cpi.xlsx'",
      "metadata": {
        "trusted": true
      },
      "outputs": [],
      "execution_count": 25
    },
    {
      "cell_type": "code",
      "source": "df = pd.read_excel(file_path)",
      "metadata": {
        "trusted": true
      },
      "outputs": [],
      "execution_count": 26
    },
    {
      "cell_type": "code",
      "source": "df['MoM'] = df['CPI All Item'].pct_change()",
      "metadata": {
        "trusted": true
      },
      "outputs": [],
      "execution_count": 30
    },
    {
      "cell_type": "code",
      "source": "df['YoY'] = df['CPI All Item'].pct_change(periods = 12)",
      "metadata": {
        "trusted": true
      },
      "outputs": [],
      "execution_count": 32
    },
    {
      "cell_type": "code",
      "source": "help(Fred)",
      "metadata": {
        "trusted": true
      },
      "outputs": [
        {
          "name": "stdout",
          "text": "Help on package fredapi:\n\nNAME\n    fredapi\n\nPACKAGE CONTENTS\n    fred\n    version\n\nVERSION\n    0.5.1\n\nFILE\n    /lib/python3.11/site-packages/fredapi/__init__.py\n\n\n",
          "output_type": "stream"
        }
      ],
      "execution_count": 170
    },
    {
      "cell_type": "code",
      "source": "# Descriptive Statistics\n\nmean = df.mean(numeric_only=True).to_frame(\"Mean\")\nstand_error = df.sem(numeric_only=True).to_frame(\"Standard Error\")\nmedian = df.median(numeric_only=True).to_frame(\"Median\")\nmode = df.mode(numeric_only=True).iloc[0].to_frame(\"Mode\")\nstd = df.std(numeric_only=True).to_frame(\"Standard Deviation\")\ns_var = df.var(numeric_only=True).to_frame(\"Sample Variance\")\nkurt = df.kurt(numeric_only=True).to_frame(\"Kurtosis\")\nskew = df.skew(numeric_only=True).to_frame(\"Skew\")\nrange = df.max(numeric_only=True) - df.min(numeric_only=True)\nrange = range.to_frame(\"Range\")\nmin = df.min(numeric_only=True).to_frame(\"Min\")\nmax = df.max(numeric_only=True).to_frame(\"Max\")\nsum = df.sum(numeric_only=True).to_frame(\"Sum\")\ncount = df.count(numeric_only=True).to_frame(\"Count\")\n\n#summary_list = [mean, stand_error, median, mode, std, s_var, kurt, skew, range, min, max, sum, count]",
      "metadata": {
        "trusted": true
      },
      "outputs": [],
      "execution_count": 124
    },
    {
      "cell_type": "code",
      "source": "df_new = pd.concat([mean, stand_error,median,mode, std, s_var, kurt, skew, range, min, max, sum, count], axis=1)\ndf_new = df_new.T\ndf_new = df_new.reset_index()\ndf_new = df_new.rename (columns= {'index': 'Descriptive Statistics'})",
      "metadata": {
        "trusted": true
      },
      "outputs": [],
      "execution_count": 146
    },
    {
      "cell_type": "code",
      "source": "df_new",
      "metadata": {
        "trusted": true
      },
      "outputs": [
        {
          "execution_count": 147,
          "output_type": "execute_result",
          "data": {
            "text/plain": "   Descriptive Statistics   CPI All Item         MoM         YoY\n0                    Mean     118.202466    0.002902    0.035395\n1          Standard Error       2.772708    0.000114    0.000966\n2                  Median     107.100000    0.002463    0.028478\n3                    Mode      29.840000    0.000000    0.020833\n4      Standard Deviation      84.100387    0.003442    0.029117\n5         Sample Variance    7072.875021    0.000012    0.000848\n6                Kurtosis      -1.201916    3.992385    1.906601\n7                    Skew       0.410635    0.575827    1.299648\n8                   Range     284.789000    0.037348    0.175804\n9                     Min      21.480000   -0.017705   -0.029881\n10                    Max     306.269000    0.019643    0.145923\n11                    Sum  108746.269000    2.666602   32.138831\n12                  Count     920.000000  919.000000  908.000000",
            "text/html": "<div>\n<style scoped>\n    .dataframe tbody tr th:only-of-type {\n        vertical-align: middle;\n    }\n\n    .dataframe tbody tr th {\n        vertical-align: top;\n    }\n\n    .dataframe thead th {\n        text-align: right;\n    }\n</style>\n<table border=\"1\" class=\"dataframe\">\n  <thead>\n    <tr style=\"text-align: right;\">\n      <th></th>\n      <th>Descriptive Statistics</th>\n      <th>CPI All Item</th>\n      <th>MoM</th>\n      <th>YoY</th>\n    </tr>\n  </thead>\n  <tbody>\n    <tr>\n      <th>0</th>\n      <td>Mean</td>\n      <td>118.202466</td>\n      <td>0.002902</td>\n      <td>0.035395</td>\n    </tr>\n    <tr>\n      <th>1</th>\n      <td>Standard Error</td>\n      <td>2.772708</td>\n      <td>0.000114</td>\n      <td>0.000966</td>\n    </tr>\n    <tr>\n      <th>2</th>\n      <td>Median</td>\n      <td>107.100000</td>\n      <td>0.002463</td>\n      <td>0.028478</td>\n    </tr>\n    <tr>\n      <th>3</th>\n      <td>Mode</td>\n      <td>29.840000</td>\n      <td>0.000000</td>\n      <td>0.020833</td>\n    </tr>\n    <tr>\n      <th>4</th>\n      <td>Standard Deviation</td>\n      <td>84.100387</td>\n      <td>0.003442</td>\n      <td>0.029117</td>\n    </tr>\n    <tr>\n      <th>5</th>\n      <td>Sample Variance</td>\n      <td>7072.875021</td>\n      <td>0.000012</td>\n      <td>0.000848</td>\n    </tr>\n    <tr>\n      <th>6</th>\n      <td>Kurtosis</td>\n      <td>-1.201916</td>\n      <td>3.992385</td>\n      <td>1.906601</td>\n    </tr>\n    <tr>\n      <th>7</th>\n      <td>Skew</td>\n      <td>0.410635</td>\n      <td>0.575827</td>\n      <td>1.299648</td>\n    </tr>\n    <tr>\n      <th>8</th>\n      <td>Range</td>\n      <td>284.789000</td>\n      <td>0.037348</td>\n      <td>0.175804</td>\n    </tr>\n    <tr>\n      <th>9</th>\n      <td>Min</td>\n      <td>21.480000</td>\n      <td>-0.017705</td>\n      <td>-0.029881</td>\n    </tr>\n    <tr>\n      <th>10</th>\n      <td>Max</td>\n      <td>306.269000</td>\n      <td>0.019643</td>\n      <td>0.145923</td>\n    </tr>\n    <tr>\n      <th>11</th>\n      <td>Sum</td>\n      <td>108746.269000</td>\n      <td>2.666602</td>\n      <td>32.138831</td>\n    </tr>\n    <tr>\n      <th>12</th>\n      <td>Count</td>\n      <td>920.000000</td>\n      <td>919.000000</td>\n      <td>908.000000</td>\n    </tr>\n  </tbody>\n</table>\n</div>"
          },
          "metadata": {}
        }
      ],
      "execution_count": 147
    },
    {
      "cell_type": "code",
      "source": "df_summary_stat_final = df_new.drop(columns='CPI All Item')",
      "metadata": {
        "trusted": true
      },
      "outputs": [],
      "execution_count": 148
    },
    {
      "cell_type": "code",
      "source": "df_summary_stat_final",
      "metadata": {
        "trusted": true
      },
      "outputs": [
        {
          "execution_count": 149,
          "output_type": "execute_result",
          "data": {
            "text/plain": "   Descriptive Statistics         MoM         YoY\n0                    Mean    0.002902    0.035395\n1          Standard Error    0.000114    0.000966\n2                  Median    0.002463    0.028478\n3                    Mode    0.000000    0.020833\n4      Standard Deviation    0.003442    0.029117\n5         Sample Variance    0.000012    0.000848\n6                Kurtosis    3.992385    1.906601\n7                    Skew    0.575827    1.299648\n8                   Range    0.037348    0.175804\n9                     Min   -0.017705   -0.029881\n10                    Max    0.019643    0.145923\n11                    Sum    2.666602   32.138831\n12                  Count  919.000000  908.000000",
            "text/html": "<div>\n<style scoped>\n    .dataframe tbody tr th:only-of-type {\n        vertical-align: middle;\n    }\n\n    .dataframe tbody tr th {\n        vertical-align: top;\n    }\n\n    .dataframe thead th {\n        text-align: right;\n    }\n</style>\n<table border=\"1\" class=\"dataframe\">\n  <thead>\n    <tr style=\"text-align: right;\">\n      <th></th>\n      <th>Descriptive Statistics</th>\n      <th>MoM</th>\n      <th>YoY</th>\n    </tr>\n  </thead>\n  <tbody>\n    <tr>\n      <th>0</th>\n      <td>Mean</td>\n      <td>0.002902</td>\n      <td>0.035395</td>\n    </tr>\n    <tr>\n      <th>1</th>\n      <td>Standard Error</td>\n      <td>0.000114</td>\n      <td>0.000966</td>\n    </tr>\n    <tr>\n      <th>2</th>\n      <td>Median</td>\n      <td>0.002463</td>\n      <td>0.028478</td>\n    </tr>\n    <tr>\n      <th>3</th>\n      <td>Mode</td>\n      <td>0.000000</td>\n      <td>0.020833</td>\n    </tr>\n    <tr>\n      <th>4</th>\n      <td>Standard Deviation</td>\n      <td>0.003442</td>\n      <td>0.029117</td>\n    </tr>\n    <tr>\n      <th>5</th>\n      <td>Sample Variance</td>\n      <td>0.000012</td>\n      <td>0.000848</td>\n    </tr>\n    <tr>\n      <th>6</th>\n      <td>Kurtosis</td>\n      <td>3.992385</td>\n      <td>1.906601</td>\n    </tr>\n    <tr>\n      <th>7</th>\n      <td>Skew</td>\n      <td>0.575827</td>\n      <td>1.299648</td>\n    </tr>\n    <tr>\n      <th>8</th>\n      <td>Range</td>\n      <td>0.037348</td>\n      <td>0.175804</td>\n    </tr>\n    <tr>\n      <th>9</th>\n      <td>Min</td>\n      <td>-0.017705</td>\n      <td>-0.029881</td>\n    </tr>\n    <tr>\n      <th>10</th>\n      <td>Max</td>\n      <td>0.019643</td>\n      <td>0.145923</td>\n    </tr>\n    <tr>\n      <th>11</th>\n      <td>Sum</td>\n      <td>2.666602</td>\n      <td>32.138831</td>\n    </tr>\n    <tr>\n      <th>12</th>\n      <td>Count</td>\n      <td>919.000000</td>\n      <td>908.000000</td>\n    </tr>\n  </tbody>\n</table>\n</div>"
          },
          "metadata": {}
        }
      ],
      "execution_count": 149
    },
    {
      "cell_type": "markdown",
      "source": "## First Part is done in above df ##",
      "metadata": {}
    },
    {
      "cell_type": "code",
      "source": "mean",
      "metadata": {
        "trusted": true
      },
      "outputs": [
        {
          "execution_count": 95,
          "output_type": "execute_result",
          "data": {
            "text/plain": "0       21.480000\n1       10.813259\n2       11.008788\n3       11.000000\n4       10.973864\n          ...    \n915    100.990417\n916    101.112177\n917    101.291241\n918    101.460886\n919    102.104129\nLength: 920, dtype: float64"
          },
          "metadata": {}
        }
      ],
      "execution_count": 95
    },
    {
      "cell_type": "code",
      "source": "ss",
      "metadata": {
        "trusted": true
      },
      "outputs": [
        {
          "execution_count": 93,
          "output_type": "execute_result",
          "data": {
            "text/plain": "CPI All Item    7072.875021\nMoM                0.000012\nYoY                0.000848\ndtype: float64"
          },
          "metadata": {}
        }
      ],
      "execution_count": 93
    },
    {
      "cell_type": "code",
      "source": "",
      "metadata": {
        "trusted": true
      },
      "outputs": [],
      "execution_count": null
    }
  ]
}